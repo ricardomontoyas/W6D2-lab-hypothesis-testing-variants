{
 "cells": [
  {
   "cell_type": "markdown",
   "metadata": {},
   "source": [
    "# Challenge 1 - T-test\n",
    "\n",
    "In statistics, t-test is used to test if two data samples have a significant difference between their means. There are two types of t-test:\n",
    "\n",
    "* **Student's t-test** (a.k.a. independent or uncorrelated t-test). This type of t-test is to compare the samples of **two independent populations** (e.g. test scores of students in two different classes). `scipy` provides the [`ttest_ind`](https://docs.scipy.org/doc/scipy-0.15.1/reference/generated/scipy.stats.ttest_ind.html) method to conduct student's t-test.\n",
    "\n",
    "* **Paired t-test** (a.k.a. dependent or correlated t-test). This type of t-test is to compare the samples of **the same population** (e.g. scores of different tests of students in the same class). `scipy` provides the [`ttest_re`](https://docs.scipy.org/doc/scipy-0.15.1/reference/generated/scipy.stats.ttest_rel.html) method to conduct paired t-test.\n",
    "\n",
    "Both types of t-tests return a number which is called the **p-value**. If p-value is below 0.05, we can confidently declare the null-hypothesis is rejected and the difference is significant. If p-value is between 0.05 and 0.1, we may also declare the null-hypothesis is rejected but we are not highly confident. If p-value is above 0.1 we do not reject the null-hypothesis.\n",
    "\n",
    "Read more about the t-test in [this article](http://b.link/test50) and [this Quora](http://b.link/unpaired97). Make sure you understand when to use which type of t-test. "
   ]
  },
  {
   "cell_type": "code",
   "execution_count": 27,
   "metadata": {},
   "outputs": [],
   "source": [
    "# Import libraries\n",
    "import pandas as pd"
   ]
  },
  {
   "cell_type": "markdown",
   "metadata": {},
   "source": [
    "#### Import dataset\n",
    "\n",
    "In this challenge we will work on the Pokemon dataset. The goal is to test whether different groups of pokemon (e.g. Legendary vs Normal, Generation 1 vs 2, single-type vs dual-type) have different stats (e.g. HP, Attack, Defense, etc.)."
   ]
  },
  {
   "cell_type": "code",
   "execution_count": 28,
   "metadata": {},
   "outputs": [
    {
     "data": {
      "text/html": [
       "<div>\n",
       "<style scoped>\n",
       "    .dataframe tbody tr th:only-of-type {\n",
       "        vertical-align: middle;\n",
       "    }\n",
       "\n",
       "    .dataframe tbody tr th {\n",
       "        vertical-align: top;\n",
       "    }\n",
       "\n",
       "    .dataframe thead th {\n",
       "        text-align: right;\n",
       "    }\n",
       "</style>\n",
       "<table border=\"1\" class=\"dataframe\">\n",
       "  <thead>\n",
       "    <tr style=\"text-align: right;\">\n",
       "      <th></th>\n",
       "      <th>#</th>\n",
       "      <th>Name</th>\n",
       "      <th>Type 1</th>\n",
       "      <th>Type 2</th>\n",
       "      <th>Total</th>\n",
       "      <th>HP</th>\n",
       "      <th>Attack</th>\n",
       "      <th>Defense</th>\n",
       "      <th>Sp. Atk</th>\n",
       "      <th>Sp. Def</th>\n",
       "      <th>Speed</th>\n",
       "      <th>Generation</th>\n",
       "      <th>Legendary</th>\n",
       "    </tr>\n",
       "  </thead>\n",
       "  <tbody>\n",
       "    <tr>\n",
       "      <th>0</th>\n",
       "      <td>1</td>\n",
       "      <td>Bulbasaur</td>\n",
       "      <td>Grass</td>\n",
       "      <td>Poison</td>\n",
       "      <td>318</td>\n",
       "      <td>45</td>\n",
       "      <td>49</td>\n",
       "      <td>49</td>\n",
       "      <td>65</td>\n",
       "      <td>65</td>\n",
       "      <td>45</td>\n",
       "      <td>1</td>\n",
       "      <td>False</td>\n",
       "    </tr>\n",
       "    <tr>\n",
       "      <th>1</th>\n",
       "      <td>2</td>\n",
       "      <td>Ivysaur</td>\n",
       "      <td>Grass</td>\n",
       "      <td>Poison</td>\n",
       "      <td>405</td>\n",
       "      <td>60</td>\n",
       "      <td>62</td>\n",
       "      <td>63</td>\n",
       "      <td>80</td>\n",
       "      <td>80</td>\n",
       "      <td>60</td>\n",
       "      <td>1</td>\n",
       "      <td>False</td>\n",
       "    </tr>\n",
       "    <tr>\n",
       "      <th>2</th>\n",
       "      <td>3</td>\n",
       "      <td>Venusaur</td>\n",
       "      <td>Grass</td>\n",
       "      <td>Poison</td>\n",
       "      <td>525</td>\n",
       "      <td>80</td>\n",
       "      <td>82</td>\n",
       "      <td>83</td>\n",
       "      <td>100</td>\n",
       "      <td>100</td>\n",
       "      <td>80</td>\n",
       "      <td>1</td>\n",
       "      <td>False</td>\n",
       "    </tr>\n",
       "    <tr>\n",
       "      <th>3</th>\n",
       "      <td>3</td>\n",
       "      <td>VenusaurMega Venusaur</td>\n",
       "      <td>Grass</td>\n",
       "      <td>Poison</td>\n",
       "      <td>625</td>\n",
       "      <td>80</td>\n",
       "      <td>100</td>\n",
       "      <td>123</td>\n",
       "      <td>122</td>\n",
       "      <td>120</td>\n",
       "      <td>80</td>\n",
       "      <td>1</td>\n",
       "      <td>False</td>\n",
       "    </tr>\n",
       "    <tr>\n",
       "      <th>4</th>\n",
       "      <td>4</td>\n",
       "      <td>Charmander</td>\n",
       "      <td>Fire</td>\n",
       "      <td>NaN</td>\n",
       "      <td>309</td>\n",
       "      <td>39</td>\n",
       "      <td>52</td>\n",
       "      <td>43</td>\n",
       "      <td>60</td>\n",
       "      <td>50</td>\n",
       "      <td>65</td>\n",
       "      <td>1</td>\n",
       "      <td>False</td>\n",
       "    </tr>\n",
       "  </tbody>\n",
       "</table>\n",
       "</div>"
      ],
      "text/plain": [
       "   #                   Name Type 1  Type 2  Total  HP  Attack  Defense  \\\n",
       "0  1              Bulbasaur  Grass  Poison    318  45      49       49   \n",
       "1  2                Ivysaur  Grass  Poison    405  60      62       63   \n",
       "2  3               Venusaur  Grass  Poison    525  80      82       83   \n",
       "3  3  VenusaurMega Venusaur  Grass  Poison    625  80     100      123   \n",
       "4  4             Charmander   Fire     NaN    309  39      52       43   \n",
       "\n",
       "   Sp. Atk  Sp. Def  Speed  Generation  Legendary  \n",
       "0       65       65     45           1      False  \n",
       "1       80       80     60           1      False  \n",
       "2      100      100     80           1      False  \n",
       "3      122      120     80           1      False  \n",
       "4       60       50     65           1      False  "
      ]
     },
     "execution_count": 28,
     "metadata": {},
     "output_type": "execute_result"
    }
   ],
   "source": [
    "# Load the Pokemon dataset\n",
    "df = pd.read_csv(\"Pokemon.csv\")\n",
    "\n",
    "# We loaded the dataset into a DataFrame (df) to analyze the stats of each Pokémon.\n",
    "# Columns include HP, Attack, Defense, Sp. Atk, Sp. Def, Speed, Total, Generation, Legendary, etc.\n",
    "\n",
    "# Display the first few rows of the dataset to understand its structure\n",
    "df.head()"
   ]
  },
  {
   "cell_type": "markdown",
   "metadata": {},
   "source": [
    "#### First we want to define a function with which we can test the means of a feature set of two samples. \n",
    "\n",
    "In the next cell you'll see the annotations of the Python function that explains what this function does and its arguments and returned value. This type of annotation is called **docstring** which is a convention used among Python developers. The docstring convention allows developers to write consistent tech documentations for their codes so that others can read. It also allows some websites to automatically parse the docstrings and display user-friendly documentations.\n",
    "\n",
    "Follow the specifications of the docstring and complete the function."
   ]
  },
  {
   "cell_type": "code",
   "execution_count": 29,
   "metadata": {},
   "outputs": [],
   "source": [
    "# We created a reusable function to test if two independent groups (like Gen1 vs Gen2) have significantly different means.\n",
    "# ttest_ind does a Student’s t-test for two independent samples.\n",
    "# This function returns a dictionary where each key is a stat (e.g. \"HP\") and the value is the p-value from the t-test.\n",
    "\n",
    "from scipy.stats import ttest_ind\n",
    "\n",
    "# Define a function that performs t-tests for a list of features between two samples\n",
    "def t_test_features(s1, s2, features=['HP', 'Attack', 'Defense', 'Sp. Atk', 'Sp. Def', 'Speed', 'Total']):\n",
    "    \"\"\"\n",
    "    Test means of a feature set of two samples using independent t-test.\n",
    "\n",
    "    Args:\n",
    "        s1 (dataframe): sample 1\n",
    "        s2 (dataframe): sample 2\n",
    "        features (list): an array of features to test\n",
    "\n",
    "    Returns:\n",
    "        dict: dictionary of p-values from t-tests where each key is the feature name\n",
    "    \"\"\"\n",
    "    results = {}\n",
    "    for feature in features:\n",
    "        # Run independent t-test between the two samples for each feature\n",
    "        stat, p = ttest_ind(s1[feature], s2[feature], equal_var=False)\n",
    "        results[feature] = p  # Store the p-value\n",
    "    return results"
   ]
  },
  {
   "cell_type": "code",
   "execution_count": 30,
   "metadata": {},
   "outputs": [
    {
     "data": {
      "text/plain": [
       "{'HP': 1.0026911708035284e-13,\n",
       " 'Attack': 2.520372449236646e-16,\n",
       " 'Defense': 4.8269984949193316e-11,\n",
       " 'Sp. Atk': 1.5514614112239812e-21,\n",
       " 'Sp. Def': 2.2949327864052826e-15,\n",
       " 'Speed': 1.049016311882451e-18,\n",
       " 'Total': 9.357954335957446e-47}"
      ]
     },
     "execution_count": 30,
     "metadata": {},
     "output_type": "execute_result"
    }
   ],
   "source": [
    "# We split the dataset into Legendary and non-Legendary Pokémon.\n",
    "# We applied the t-test to compare their stats.\n",
    "# Result: All stats were significantly different (p-value < 0.05), so being Legendary means better stats.\n",
    "\n",
    "# Now apply this function to compare Legendary vs non-Legendary Pokémon\n",
    "legendary = df[df['Legendary'] == True]\n",
    "non_legendary = df[df['Legendary'] == False]\n",
    "\n",
    "legendary_vs_non = t_test_features(legendary, non_legendary)\n",
    "legendary_vs_non"
   ]
  },
  {
   "cell_type": "markdown",
   "metadata": {},
   "source": [
    "#### Using the `t_test_features` function, conduct t-test for Lengendary vs non-Legendary pokemons.\n",
    "\n",
    "*Hint: your output should look like below:*\n",
    "\n",
    "```\n",
    "{'HP': 1.0026911708035284e-13,\n",
    " 'Attack': 2.520372449236646e-16,\n",
    " 'Defense': 4.8269984949193316e-11,\n",
    " 'Sp. Atk': 1.5514614112239812e-21,\n",
    " 'Sp. Def': 2.2949327864052826e-15,\n",
    " 'Speed': 1.049016311882451e-18,\n",
    " 'Total': 9.357954335957446e-47}\n",
    " ```"
   ]
  },
  {
   "cell_type": "code",
   "execution_count": 31,
   "metadata": {},
   "outputs": [
    {
     "data": {
      "text/plain": [
       "{'HP': 1e-13,\n",
       " 'Attack': 2.52e-16,\n",
       " 'Defense': 4.82e-11,\n",
       " 'Sp. Atk': 1.55e-21,\n",
       " 'Sp. Def': 2.29e-15,\n",
       " 'Speed': 1.05e-18,\n",
       " 'Total': 9.36e-47}"
      ]
     },
     "execution_count": 31,
     "metadata": {},
     "output_type": "execute_result"
    }
   ],
   "source": [
    "{\n",
    " 'HP': 1.00e-13,\n",
    " 'Attack': 2.52e-16,\n",
    " 'Defense': 4.82e-11,\n",
    " 'Sp. Atk': 1.55e-21,\n",
    " 'Sp. Def': 2.29e-15,\n",
    " 'Speed': 1.05e-18,\n",
    " 'Total': 9.36e-47\n",
    "}"
   ]
  },
  {
   "cell_type": "code",
   "execution_count": 32,
   "metadata": {},
   "outputs": [],
   "source": [
    "# 🧠 Conclusion:\n",
    "# All p-values are below 0.05, so we reject the null hypothesis.\n",
    "# Legendary Pokémon have statistically significant differences in all stats\n",
    "# compared to non-Legendary Pokémon."
   ]
  },
  {
   "cell_type": "markdown",
   "metadata": {},
   "source": [
    "#### From the test results above, what conclusion can you make? Do Legendary and non-Legendary pokemons have significantly different stats on each feature?"
   ]
  },
  {
   "cell_type": "code",
   "execution_count": 33,
   "metadata": {},
   "outputs": [
    {
     "data": {
      "text/plain": [
       "{'HP': 0.14551697834219623,\n",
       " 'Attack': 0.24721958967217725,\n",
       " 'Defense': 0.5677711011725426,\n",
       " 'Sp. Atk': 0.12332165977104388,\n",
       " 'Sp. Def': 0.18829872292645752,\n",
       " 'Speed': 0.00239265937312135,\n",
       " 'Total': 0.5631377907941676}"
      ]
     },
     "execution_count": 33,
     "metadata": {},
     "output_type": "execute_result"
    }
   ],
   "source": [
    "# Compared Pokémon from Gen 1 and Gen 2.\n",
    "# Result: Only Speed had a significant difference; all other stats were statistically similar.\n",
    "\n",
    "\n",
    "# --- T-test: Generation 1 vs Generation 2 ---\n",
    "\n",
    "# Filter Generation 1 and Generation 2 Pokémon\n",
    "gen1 = df[df['Generation'] == 1]\n",
    "gen2 = df[df['Generation'] == 2]\n",
    "\n",
    "# Apply t-test on stats for Generation 1 vs Generation 2\n",
    "gen1_vs_gen2 = t_test_features(gen1, gen2)\n",
    "gen1_vs_gen2\n"
   ]
  },
  {
   "cell_type": "markdown",
   "metadata": {},
   "source": [
    "#### Next, conduct t-test for Generation 1 and Generation 2 pokemons."
   ]
  },
  {
   "cell_type": "code",
   "execution_count": 34,
   "metadata": {},
   "outputs": [
    {
     "data": {
      "text/plain": [
       "{'HP': 0.1455,\n",
       " 'Attack': 0.2472,\n",
       " 'Defense': 0.5678,\n",
       " 'Sp. Atk': 0.1233,\n",
       " 'Sp. Def': 0.1883,\n",
       " 'Speed': 0.0024,\n",
       " 'Total': 0.5631}"
      ]
     },
     "execution_count": 34,
     "metadata": {},
     "output_type": "execute_result"
    }
   ],
   "source": [
    "{\n",
    " 'HP': 0.1455,\n",
    " 'Attack': 0.2472,\n",
    " 'Defense': 0.5678,\n",
    " 'Sp. Atk': 0.1233,\n",
    " 'Sp. Def': 0.1883,\n",
    " 'Speed': 0.0024,\n",
    " 'Total': 0.5631\n",
    "}\n"
   ]
  },
  {
   "cell_type": "markdown",
   "metadata": {},
   "source": [
    "#### What conclusions can you make?"
   ]
  },
  {
   "cell_type": "code",
   "execution_count": 35,
   "metadata": {},
   "outputs": [],
   "source": [
    "# Most p-values are greater than 0.05, so we fail to reject the null hypothesis.\n",
    "# That means: stats like HP, Attack, Defense, etc. are not significantly different\n",
    "# between Gen 1 and Gen 2 Pokémon, except for Speed.\n",
    "\n",
    "# Speed is the only stat with a p-value < 0.05, indicating that Generation 1 and 2\n",
    "# Pokémon have significantly different Speed values."
   ]
  },
  {
   "cell_type": "markdown",
   "metadata": {},
   "source": [
    "#### Compare pokemons who have single type vs those having two types."
   ]
  },
  {
   "cell_type": "code",
   "execution_count": 36,
   "metadata": {},
   "outputs": [
    {
     "data": {
      "text/plain": [
       "{'HP': 0.11314389855379413,\n",
       " 'Attack': 0.00014932578145948305,\n",
       " 'Defense': 2.7978540411514693e-08,\n",
       " 'Sp. Atk': 0.00013876216585667907,\n",
       " 'Sp. Def': 0.00010730610934512779,\n",
       " 'Speed': 0.02421703281819093,\n",
       " 'Total': 1.1157056505229961e-07}"
      ]
     },
     "execution_count": 36,
     "metadata": {},
     "output_type": "execute_result"
    }
   ],
   "source": [
    "# Single-type Pokémon: Type 2 is missing (NaN)\n",
    "# Dual-type Pokémon: both Type 1 and Type 2 are present.\n",
    "# Result: All stats except HP were significantly different. Dual-type Pokémon tend to have higher stats.\n",
    "\n",
    "# --- T-test: Single-type vs Dual-type Pokémon ---\n",
    "\n",
    "# Create a boolean mask: True if Pokémon has only one type\n",
    "single_type = df[df['Type 2'].isnull()]\n",
    "dual_type = df[df['Type 2'].notnull()]\n",
    "\n",
    "# Apply t-test on stats for single-type vs dual-type Pokémon\n",
    "single_vs_dual = t_test_features(single_type, dual_type)\n",
    "single_vs_dual\n",
    "\n"
   ]
  },
  {
   "cell_type": "code",
   "execution_count": 37,
   "metadata": {},
   "outputs": [
    {
     "data": {
      "text/plain": [
       "{'HP': 0.1131,\n",
       " 'Attack': 0.0001,\n",
       " 'Defense': 2.8e-08,\n",
       " 'Sp. Atk': 0.0001,\n",
       " 'Sp. Def': 0.0001,\n",
       " 'Speed': 0.0242,\n",
       " 'Total': 1.12e-07}"
      ]
     },
     "execution_count": 37,
     "metadata": {},
     "output_type": "execute_result"
    }
   ],
   "source": [
    "{\n",
    " 'HP': 0.1131,\n",
    " 'Attack': 0.0001,\n",
    " 'Defense': 2.80e-08,\n",
    " 'Sp. Atk': 0.0001,\n",
    " 'Sp. Def': 0.0001,\n",
    " 'Speed': 0.0242,\n",
    " 'Total': 1.12e-07\n",
    "}\n"
   ]
  },
  {
   "cell_type": "markdown",
   "metadata": {},
   "source": [
    "#### What conclusions can you make?"
   ]
  },
  {
   "cell_type": "code",
   "execution_count": 38,
   "metadata": {},
   "outputs": [],
   "source": [
    "# HP is the only stat with p-value > 0.05 → no significant difference.\n",
    "# All other stats (Attack, Defense, Sp. Atk, Sp. Def, Speed, Total) show p-values < 0.05,\n",
    "# meaning they are significantly different between single-type and dual-type Pokémon.\n",
    "\n",
    "# Conclusion: dual-type Pokémon tend to have significantly different (usually higher)\n",
    "# stats than single-type Pokémon in almost every category except HP."
   ]
  },
  {
   "cell_type": "markdown",
   "metadata": {},
   "source": [
    "#### Now, we want to compare whether there are significant differences of `Attack` vs `Defense`  and  `Sp. Atk` vs `Sp. Def` of all pokemons. Please write your code below.\n",
    "\n",
    "*Hint: are you comparing different populations or the same population?*"
   ]
  },
  {
   "cell_type": "code",
   "execution_count": 39,
   "metadata": {},
   "outputs": [
    {
     "data": {
      "text/plain": [
       "{'Attack vs Defense p-value': 1.7140303479358558e-05,\n",
       " 'Sp. Atk vs Sp. Def p-value': 0.3933685997548122}"
      ]
     },
     "execution_count": 39,
     "metadata": {},
     "output_type": "execute_result"
    }
   ],
   "source": [
    "# Since this is comparing two features of the same sample, we used a paired t-test (ttest_rel).\n",
    "# Result: Pokémon generally have different values for Attack vs Defense.\n",
    "\n",
    "from scipy.stats import ttest_rel\n",
    "\n",
    "# --- Paired t-test: Attack vs Defense (same Pokémon) ---\n",
    "atk_vs_def = ttest_rel(df['Attack'], df['Defense'])\n",
    "\n",
    "# --- Paired t-test: Sp. Atk vs Sp. Def (same Pokémon) ---\n",
    "spatk_vs_spdef = ttest_rel(df['Sp. Atk'], df['Sp. Def'])\n",
    "\n",
    "# Return both results as readable p-values\n",
    "{\n",
    "    'Attack vs Defense p-value': atk_vs_def.pvalue,\n",
    "    'Sp. Atk vs Sp. Def p-value': spatk_vs_spdef.pvalue\n",
    "}\n"
   ]
  },
  {
   "cell_type": "code",
   "execution_count": 40,
   "metadata": {},
   "outputs": [
    {
     "data": {
      "text/plain": [
       "{'Attack vs Defense': 1.71e-05, 'Sp. Atk vs Sp. Def': 0.3934}"
      ]
     },
     "execution_count": 40,
     "metadata": {},
     "output_type": "execute_result"
    }
   ],
   "source": [
    "# Same method, but comparing special stats.\n",
    "# Result: No significant difference — Special Attack and Special Defense are balanced on average.\n",
    "\n",
    "{\n",
    " 'Attack vs Defense': 1.71e-05,\n",
    " 'Sp. Atk vs Sp. Def': 0.3934\n",
    "}"
   ]
  },
  {
   "cell_type": "markdown",
   "metadata": {},
   "source": [
    "#### What conclusions can you make?"
   ]
  },
  {
   "cell_type": "code",
   "execution_count": 41,
   "metadata": {},
   "outputs": [],
   "source": [
    "# Attack vs Defense → p-value < 0.05 → significant difference.\n",
    "# Sp. Atk vs Sp. Def → p-value > 0.05 → no significant difference.\n",
    "\n",
    "# So: Pokémon tend to have significantly different values between Attack and Defense,\n",
    "# but not between Special Attack and Special Defense.\n"
   ]
  }
 ],
 "metadata": {
  "kernelspec": {
   "display_name": "base",
   "language": "python",
   "name": "python3"
  },
  "language_info": {
   "codemirror_mode": {
    "name": "ipython",
    "version": 3
   },
   "file_extension": ".py",
   "mimetype": "text/x-python",
   "name": "python",
   "nbconvert_exporter": "python",
   "pygments_lexer": "ipython3",
   "version": "3.12.7"
  }
 },
 "nbformat": 4,
 "nbformat_minor": 2
}
